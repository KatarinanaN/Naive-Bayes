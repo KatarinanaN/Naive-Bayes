{
 "cells": [
  {
   "cell_type": "markdown",
   "id": "52a4413d",
   "metadata": {},
   "source": [
    "This dataset provides customer information to predict customer attrition for a consumer credit card portfolio\n",
    "\n",
    "CLIENTNUM: Unique identifier for each customer. (Integer)\n",
    "\n",
    "Attrition_Flag: Flag indicating whether or not the customer has churned out. (Boolean)\n",
    "\n",
    "Customer_Age: Age of customer. (Integer)\n",
    "\n",
    "Gender: Gender of customer. (String)\n",
    "\n",
    "Dependent_count: Number of dependents that customer has. (Integer)\n",
    "\n",
    "Education_Level: Education level of customer. (String)\n",
    "\n",
    "Marital_Status: Marital status of customer. (String)\n",
    "\n",
    "Income_Category: Income category of customer. (String)\n",
    "\n",
    "Card_Category: Type of card held by customer. (String)\n",
    "\n",
    "Months_on_book: How long customer has been on the books. (Integer)\n",
    "\n",
    "Total_Relationship_Count: Total number of relationships customer has with the credit card provider. (Integer)\n",
    "\n",
    "Months_Inactive_12_mon: Number of months customer has been inactive in the last twelve months. (Integer)\n",
    "\n",
    "Contacts_Count_12_mon: Number of contacts customer has had in the last twelve months. (Integer)\n",
    "\n",
    "Credit_Limit: Credit limit of customer. (Integer)\n",
    "\n",
    "Total_Revolving_Bal: Total revolving balance of customer. (Integer)\n",
    "\n",
    "Avg_Open_To_Buy: Average open to buy ratio of customer. (Integer)\n",
    "\n",
    "Total_Amt_Chng_Q4_Q1: Total amount changed from quarter 4 to quarter 1. (Integer)\n",
    "\n",
    "Total_Trans_Amt: Total transaction amount. (Integer)\n",
    "\n",
    "Total_Trans_Ct: Total transaction count. (Integer)\n",
    "\n",
    "Total_Ct_Chng_Q4_Q1: Total count changed from quarter 4 to quarter 1. (Integer)\n",
    "\n",
    "Avg_Utilization_Ratio: Average utilization ratio of customer. (Integer)\n",
    "\n",
    "Naive_Bayes_Classifier_Attrition_Flag_Card_Category_Contacts_Count_12_mon_Dependent_count_Education_Level_Months_Inactive_12_mon_1: Naive Bayes classifier for predicting whether or not someone will churn based on characteristics such"
   ]
  },
  {
   "cell_type": "markdown",
   "id": "600e6232",
   "metadata": {},
   "source": [
    "POSLEDNJE DVE KOLONE TREBA UKLONITI NA SAMOM POCETKU."
   ]
  },
  {
   "cell_type": "code",
   "execution_count": null,
   "id": "9e4a7def",
   "metadata": {},
   "outputs": [],
   "source": []
  }
 ],
 "metadata": {
  "kernelspec": {
   "display_name": "Python 3 (ipykernel)",
   "language": "python",
   "name": "python3"
  },
  "language_info": {
   "codemirror_mode": {
    "name": "ipython",
    "version": 3
   },
   "file_extension": ".py",
   "mimetype": "text/x-python",
   "name": "python",
   "nbconvert_exporter": "python",
   "pygments_lexer": "ipython3",
   "version": "3.9.13"
  }
 },
 "nbformat": 4,
 "nbformat_minor": 5
}
